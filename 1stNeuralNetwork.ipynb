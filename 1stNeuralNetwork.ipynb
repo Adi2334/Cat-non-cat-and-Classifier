{
 "cells": [
  {
   "cell_type": "code",
   "execution_count": 1,
   "id": "985b0486",
   "metadata": {},
   "outputs": [],
   "source": [
    "import numpy as np\n",
    "import copy\n",
    "import matplotlib.pyplot as plt\n",
    "#from testCases_v2 import *\n",
    "#from public_tests import *\n",
    "import sklearn\n",
    "import sklearn.datasets\n",
    "import sklearn.linear_model\n",
    "#from planar_utils import plot_decision_boundary, sigmoid, load_planar_dataset, load_extra_datasets\n",
    "def plot_decision_boundary(model, X, y):\n",
    "    # Set min and max values and give it some padding\n",
    "    x_min, x_max = X[0, :].min() - 1, X[0, :].max() + 1\n",
    "    y_min, y_max = X[1, :].min() - 1, X[1, :].max() + 1\n",
    "    h = 0.01\n",
    "    # Generate a grid of points with distance h between them\n",
    "    xx, yy = np.meshgrid(np.arange(x_min, x_max, h), np.arange(y_min, y_max, h))\n",
    "    # Predict the function value for the whole grid\n",
    "    Z = model(np.c_[xx.ravel(), yy.ravel()])\n",
    "    Z = Z.reshape(xx.shape)\n",
    "    # Plot the contour and training examples\n",
    "    plt.contourf(xx, yy, Z, cmap=plt.cm.Spectral)\n",
    "    plt.ylabel('x2')\n",
    "    plt.xlabel('x1')\n",
    "    plt.scatter(X[0, :], X[1, :], c=y, cmap=plt.cm.Spectral)\n",
    "    \n",
    "\n",
    "def sigmoid(x):\n",
    "    s = 1/(1+np.exp(-x))\n",
    "    return s\n",
    "\n",
    "def load_planar_dataset():\n",
    "    np.random.seed(1)\n",
    "    m = 400 # number of examples\n",
    "    N = int(m/2) # number of points per class\n",
    "    D = 2 # dimensionality\n",
    "    X = np.zeros((m,D)) # data matrix where each row is a single example\n",
    "    Y = np.zeros((m,1), dtype='uint8') # labels vector (0 for red, 1 for blue)\n",
    "    a = 4 # maximum ray of the flower\n",
    "\n",
    "    for j in range(2):\n",
    "        ix = range(N*j,N*(j+1))\n",
    "        t = np.linspace(j*3.12,(j+1)*3.12,N) + np.random.randn(N)*0.2 # theta\n",
    "        r = a*np.sin(4*t) + np.random.randn(N)*0.2 # radius\n",
    "        X[ix] = np.c_[r*np.sin(t), r*np.cos(t)]\n",
    "        Y[ix] = j\n",
    "        \n",
    "    X = X.T\n",
    "    Y = Y.T\n",
    "\n",
    "    return X, Y\n",
    "\n",
    "def load_extra_datasets():  \n",
    "    N = 200\n",
    "    noisy_circles = sklearn.datasets.make_circles(n_samples=N, factor=.5, noise=.3)\n",
    "    noisy_moons = sklearn.datasets.make_moons(n_samples=N, noise=.2)\n",
    "    blobs = sklearn.datasets.make_blobs(n_samples=N, random_state=5, n_features=2, centers=6)\n",
    "    gaussian_quantiles = sklearn.datasets.make_gaussian_quantiles(mean=None, cov=0.5, n_samples=N, n_features=2, n_classes=2, shuffle=True, random_state=None)\n",
    "    no_structure = np.random.rand(N, 2), np.random.rand(N, 2)\n",
    "    \n",
    "    return noisy_circles, noisy_moons, blobs, gaussian_quantiles, no_structure\n",
    "\n",
    "%matplotlib inline\n",
    "\n",
    "%load_ext autoreload\n",
    "%autoreload 2"
   ]
  },
  {
   "cell_type": "code",
   "execution_count": 2,
   "id": "8c351efb",
   "metadata": {},
   "outputs": [],
   "source": [
    "X, Y = load_planar_dataset()"
   ]
  },
  {
   "cell_type": "code",
   "execution_count": 3,
   "id": "6ee52811",
   "metadata": {},
   "outputs": [
    {
     "data": {
      "text/plain": [
       "(2, 400)"
      ]
     },
     "execution_count": 3,
     "metadata": {},
     "output_type": "execute_result"
    }
   ],
   "source": [
    "X.shape"
   ]
  },
  {
   "cell_type": "code",
   "execution_count": 4,
   "id": "3341d9ed",
   "metadata": {},
   "outputs": [
    {
     "data": {
      "text/plain": [
       "(1, 400)"
      ]
     },
     "execution_count": 4,
     "metadata": {},
     "output_type": "execute_result"
    }
   ],
   "source": [
    "Y.shape"
   ]
  },
  {
   "cell_type": "code",
   "execution_count": 5,
   "id": "0ccfc450",
   "metadata": {},
   "outputs": [],
   "source": [
    "def layersize(X,Y):\n",
    "    nx = X.shape[0]\n",
    "    ny = Y.shape[0]\n",
    "    nh = 5\n",
    "    \n",
    "    s = {\n",
    "        \"nx\":nx,\n",
    "        \"nh\":nh,\n",
    "        \"ny\":ny\n",
    "        }\n",
    "    return s"
   ]
  },
  {
   "cell_type": "code",
   "execution_count": 6,
   "id": "0ef67390",
   "metadata": {},
   "outputs": [],
   "source": [
    "def initialization(s):\n",
    "    s = layersize(X,Y)\n",
    "    nx = s[\"nx\"]\n",
    "    ny = s[\"ny\"]\n",
    "    nh = s[\"nh\"]\n",
    "    W1 = np.random.randn(nh,nx)*0.01\n",
    "    b1 = np.zeros((nh,1))\n",
    "    W2 = np.random.randn(ny,nh)*0.01\n",
    "    b2 = np.zeros((ny,1))\n",
    "    p = {\n",
    "        \"W1\" : W1,\n",
    "        \"b1\" : b1,\n",
    "        \"W2\" : W2,\n",
    "        \"b2\" : b2\n",
    "        }\n",
    "    return p"
   ]
  },
  {
   "cell_type": "code",
   "execution_count": 7,
   "id": "50098283",
   "metadata": {},
   "outputs": [],
   "source": [
    "def fpropogation(X,p):\n",
    "    W1 = p[\"W1\"]\n",
    "    b1 = p[\"b1\"]\n",
    "    W2 = p[\"W2\"]\n",
    "    b2 = p[\"b2\"]\n",
    "    \n",
    "    Z1 = np.dot(W1,X) + b1\n",
    "    A1 = np.tanh(Z1)\n",
    "    Z2 = np.dot(W2,A1) + b2\n",
    "    A2 = sigmoid(Z2)\n",
    "    \n",
    "    c = {\n",
    "        \"Z1\" : Z1,\n",
    "        \"A1\" : A1,\n",
    "        \"Z2\" : Z2,\n",
    "        \"A2\" : A2\n",
    "        }\n",
    "    return c"
   ]
  },
  {
   "cell_type": "code",
   "execution_count": 8,
   "id": "b8ad397f",
   "metadata": {},
   "outputs": [],
   "source": [
    "def Cost(c,Y):\n",
    "    A2 = c[\"A2\"]\n",
    "    m = Y.shape[1]\n",
    "    logterms = np.multiply(np.log(A2),Y) + np.multiply(np.log(1-A2),1-Y)\n",
    "    cost = -np.sum(logterms)/m\n",
    "    return cost"
   ]
  },
  {
   "cell_type": "code",
   "execution_count": 9,
   "id": "be14023f",
   "metadata": {},
   "outputs": [],
   "source": [
    "def bpropogation(X,Y,p,c):\n",
    "    W1 = p[\"W1\"]\n",
    "    W2 = p[\"W2\"]\n",
    "    A1 = c[\"A1\"]\n",
    "    A2 = c[\"A2\"]\n",
    "    m = X.shape[1]\n",
    "    \n",
    "    dZ2 = A2-Y\n",
    "    dW2 = np.dot(dZ2,A1.T)/m\n",
    "    db2 = np.sum(dZ2,axis=1,keepdims=True)\n",
    "    dZ1 = np.dot(W2.T,dZ2)*(1-np.power(A1,2))\n",
    "    dW1 = np.dot(dZ1,X.T)/m\n",
    "    db1 = np.sum(dZ1,axis=1,keepdims=True)/m\n",
    "    g = {\n",
    "        \"dW2\":dW2,\n",
    "        \"db2\":db2,\n",
    "        \"dW1\":dW1,\n",
    "        \"db1\":db1\n",
    "    }\n",
    "    return g"
   ]
  },
  {
   "cell_type": "code",
   "execution_count": 10,
   "id": "26793a0c",
   "metadata": {},
   "outputs": [],
   "source": [
    "def uparameters(p,g,lr):\n",
    "    W1 = copy.deepcopy(p[\"W1\"])\n",
    "    b1 = p[\"b1\"]\n",
    "    W2 = copy.deepcopy(p[\"W2\"])\n",
    "    b2 = p[\"b2\"]\n",
    "    \n",
    "    dW2 = g[\"dW2\"]\n",
    "    dW1 = g[\"dW1\"]\n",
    "    db2 = g[\"db2\"]\n",
    "    db1 = g[\"db1\"]\n",
    "    \n",
    "    W1 = W1 - lr*dW1\n",
    "    W2 = W2 - lr*dW2\n",
    "    b1 = b1 - lr*db1\n",
    "    b2 = b2 - lr*db2\n",
    "\n",
    "    p = {\n",
    "        \"W1\":W1,\n",
    "        \"W2\":W2,\n",
    "        \"b1\":b1,\n",
    "        \"b2\":b2   \n",
    "        }\n",
    "    return p"
   ]
  },
  {
   "cell_type": "code",
   "execution_count": 11,
   "id": "e3a5bd03",
   "metadata": {},
   "outputs": [],
   "source": [
    "def nnmodel(X,Y,I,printcost,lr):\n",
    "    np.random.seed(3)\n",
    "    s = layersize(X,Y)\n",
    "    nx = s[\"nx\"]\n",
    "    ny = s[\"ny\"]\n",
    "    nh = s[\"nh\"]\n",
    "    p = initialization(s)\n",
    "    \n",
    "    for i in range(0,I):\n",
    "        c = fpropogation(X,p)\n",
    "        cost = Cost(c,Y)\n",
    "        g = bpropogation(X,Y,p,c)\n",
    "        p = uparameters(p,g,lr)\n",
    "        if printcost and i % 10000 == 0:\n",
    "            print (\"Cost after iteration %i: %f\" %(i, cost))\n",
    "            \n",
    "    return p\n"
   ]
  },
  {
   "cell_type": "code",
   "execution_count": 12,
   "id": "efbc3c95",
   "metadata": {
    "scrolled": false
   },
   "outputs": [
    {
     "name": "stdout",
     "output_type": "stream",
     "text": [
      "Cost after iteration 0: 0.693082\n",
      "Cost after iteration 190000: 0.187236\n"
     ]
    }
   ],
   "source": [
    "up = nnmodel(X,Y,200000,True,0.021512)"
   ]
  },
  {
   "cell_type": "code",
   "execution_count": 13,
   "id": "edb15899",
   "metadata": {},
   "outputs": [],
   "source": [
    "def predict(p,X):\n",
    "    c = fpropogation(X,p)\n",
    "    A2 = c[\"A2\"]\n",
    "    predictions = (A2 > 0.5)\n",
    "    return predictions"
   ]
  },
  {
   "cell_type": "code",
   "execution_count": 14,
   "id": "5ad8ebd7",
   "metadata": {},
   "outputs": [
    {
     "name": "stdout",
     "output_type": "stream",
     "text": [
      "Accuracy: 90%\n"
     ]
    }
   ],
   "source": [
    "predictions = predict(up, X)\n",
    "print ('Accuracy: %d' % float((np.dot(Y, predictions.T) + np.dot(1 - Y, 1 - predictions.T)) / float(Y.size) * 100) + '%')"
   ]
  },
  {
   "cell_type": "code",
   "execution_count": 15,
   "id": "5681c451",
   "metadata": {},
   "outputs": [
    {
     "data": {
      "text/plain": [
       "Text(0.5, 1.0, 'Decision Boundary for hidden layer size 20')"
      ]
     },
     "execution_count": 15,
     "metadata": {},
     "output_type": "execute_result"
    },
    {
     "data": {
      "image/png": "[encoded data removed]",
      "text/plain": [
       "<Figure size 432x288 with 1 Axes>"
      ]
     },
     "metadata": {
      "needs_background": "light"
     },
     "output_type": "display_data"
    }
   ],
   "source": [
    "plot_decision_boundary(lambda x: predict(up, x.T), X, Y)\n",
    "plt.title(\"Decision Boundary for hidden layer size \" + str(20))"
   ]
  },
  {
   "cell_type": "code",
   "execution_count": null,
   "id": "9e9199da",
   "metadata": {},
   "outputs": [],
   "source": []
  }
 ],
 "metadata": {
  "kernelspec": {
   "display_name": "Python 3 (ipykernel)",
   "language": "python",
   "name": "python3"
  },
  "language_info": {
   "codemirror_mode": {
    "name": "ipython",
    "version": 3
   },
   "file_extension": ".py",
   "mimetype": "text/x-python",
   "name": "python",
   "nbconvert_exporter": "python",
   "pygments_lexer": "ipython3",
   "version": "3.9.12"
  }
 },
 "nbformat": 4,
 "nbformat_minor": 5
}
